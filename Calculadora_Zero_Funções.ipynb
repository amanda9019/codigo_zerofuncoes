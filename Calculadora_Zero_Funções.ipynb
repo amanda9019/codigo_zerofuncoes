{
  "nbformat": 4,
  "nbformat_minor": 0,
  "metadata": {
    "colab": {
      "name": "Calculadora Zero Funções.ipynb",
      "provenance": [],
      "collapsed_sections": [],
      "mount_file_id": "1jPoPJsifrxmUGCudpIMlvj0iidUnuMgt",
      "authorship_tag": "ABX9TyNErdH+nTtp2lNRN2BHNz5P",
      "include_colab_link": true
    },
    "kernelspec": {
      "name": "python3",
      "display_name": "Python 3"
    }
  },
  "cells": [
    {
      "cell_type": "markdown",
      "metadata": {
        "id": "view-in-github",
        "colab_type": "text"
      },
      "source": [
        "<a href=\"https://colab.research.google.com/github/amanda9019/codigo_zerofuncoes/blob/master/Calculadora_Zero_Fun%C3%A7%C3%B5es.ipynb\" target=\"_parent\"><img src=\"https://colab.research.google.com/assets/colab-badge.svg\" alt=\"Open In Colab\"/></a>"
      ]
    },
    {
      "cell_type": "code",
      "metadata": {
        "id": "gDZnWxvRQhnS",
        "colab_type": "code",
        "colab": {}
      },
      "source": [
        "'''from sympy import solve, Poly, Eq, Function, exp\n",
        "from sympy.abc import x, y, z'''\n",
        "\n",
        "import math\n",
        "import sympy as sym\n",
        "from sympy import diff, exp\n",
        "#import re\n",
        "import numpy as np\n",
        "import pandas as pd\n",
        "import matplotlib.pyplot as plt\n",
        "from PIL import Image\n",
        "import plotly.graph_objects as go"
      ],
      "execution_count": 30,
      "outputs": []
    },
    {
      "cell_type": "code",
      "metadata": {
        "id": "wyW96WBsYcC9",
        "colab_type": "code",
        "colab": {}
      },
      "source": [
        "def main():\n",
        "  print(\"—— Código - Zeros de Funções ——\")\n",
        "  #funcao_teste = \"\"\n",
        "  valido = False\n",
        "\n",
        "  # Loop pra caso inserir input inválido\n",
        "  while valido == False:\n",
        "    print(\"\\nEscolha entre o método da BISSECCAO ou de NEWTON: \")\n",
        "    metodo = input()\n",
        "\n",
        "    if(metodo.lower() == \"bisseccao\" or metodo.lower() == \"bissecção\"):\n",
        "      # -- Entradas da Bissecção --\n",
        "      funcao = input(\"\\n 1) Insira a equação (Use math.exp(x) para e^x; \\nx**y para potência; \\nx*y para multiplicação; \\nx/y para divisão): \")\n",
        "      a = input(\" 2) Digite o valor de a: \")\n",
        "      b = input(\" 3) Digite o valor de b: \")\n",
        "      max = input(\" 4) Por último, insira uma qntd máxima de iterações: \")\n",
        "\n",
        "      # -- Execução do método --\n",
        "      f = lambda x: eval(funcao)\n",
        "      raiz, dados = metodo_bisseccao(f, int(a), int(b), int(max))\n",
        "      print(\"Valor de x resultante: \", raiz)\n",
        "      plotarTabela(dados, \"bisseccao\")\n",
        "      valido = True\n",
        "\n",
        "    elif(metodo.lower() == \"newton\"):\n",
        "      # -- Entradas de Newton --\n",
        "      funcao = input(\"\\n 1) Insira a equação (Use math.exp(x) para e^x; \\nx**y para potência; \\nx*y para multiplicação; \\nx/y para divisão): \")\n",
        "      x0 = input(\" 2) Digite o valor da aproximação inicial (x0): \")\n",
        "      max = input(\" 3) Por último, insira uma qntd máxima de iterações: \")\n",
        "\n",
        "      # -- Execução do método --\n",
        "      f = lambda x: eval(funcao)\n",
        "      raiz, dados = metodo_newton(f, int(x0), int(max))\n",
        "      print(\"Valor de x resultante: \", raiz)\n",
        "      plotarTabela(dados, \"newton\")\n",
        "      valido = True\n",
        "\n",
        "    else:\n",
        "      print(\"Input inválido!\")"
      ],
      "execution_count": 39,
      "outputs": []
    },
    {
      "cell_type": "code",
      "metadata": {
        "id": "uByzGfO2ZG9w",
        "colab_type": "code",
        "colab": {}
      },
      "source": [
        "def metodo_bisseccao(f, interv_a, interv_b, N):\n",
        "  # -- Exceção: f(a)*f(b) >= 0 --\n",
        "  if f(interv_a)*f(interv_b) >= 0:\n",
        "    print(\"Falha no método da Bissecção: o produto de f(a) e f(b) é maior ou igual a zero.\")\n",
        "    return None\n",
        "\n",
        "  # -- Processo padrão --\n",
        "  a, b = interv_a, interv_b\n",
        "  dados = [[], [], [], [], [], []]\n",
        "\n",
        "  for K in range(0, N+1):\n",
        "    # Adicionando a primeira linha\n",
        "    xk = (a+b)/2    #Calculo da média do intervalo\n",
        "    fxk = f(xk)     #E a função dessa média\n",
        "    if (K == 0):\n",
        "      dados[0].append(0)\n",
        "      dados[1].append(a)\n",
        "      dados[2].append(b)\n",
        "      dados[3].append(xk)\n",
        "      dados[4].append(fxk)\n",
        "      if (fxk == 0 or abs(fxk) <= 10e-3):\n",
        "        dados[5].append(\"True\")\n",
        "      else:\n",
        "        dados[5].append(\"False\")\n",
        "\n",
        "    # Adicionando o resto das linhas\n",
        "    else:\n",
        "      # -- Substituições --\n",
        "      if (f(a)*fxk < 0):\n",
        "        a, b = a, xk    #b é substituído por xk\n",
        "      elif (f(b)*fxk < 0):\n",
        "        a, b = xk, b    #a é substituído\n",
        "\n",
        "      xk = (a+b)/2\n",
        "      fxk = f(xk)\n",
        "\n",
        "      dados[0].append(K)\n",
        "      dados[1].append(a)\n",
        "      dados[2].append(b)\n",
        "      dados[3].append(xk)\n",
        "      dados[4].append(fxk)\n",
        "\n",
        "      # -- Caso ache uma raíz real --\n",
        "      if (fxk == 0):\n",
        "        print(\"\\nSolução exata encontrada!\")\n",
        "        dados[5].append(\"True\")\n",
        "        return xk, dados\n",
        "\n",
        "      # -- Caso atinja condição de parada --\n",
        "      elif (abs(fxk) <= 10e-3):\n",
        "        print(\"\\nMétodo interrompido pela condição de parada!\")\n",
        "        dados[5].append(\"True\")\n",
        "        return xk, dados\n",
        "        \n",
        "      else:\n",
        "        dados[5].append(\"False\")\n",
        "  return xk, dados"
      ],
      "execution_count": 32,
      "outputs": []
    },
    {
      "cell_type": "code",
      "metadata": {
        "id": "zzae9PKpZD5b",
        "colab_type": "code",
        "colab": {}
      },
      "source": [
        "def metodo_newton(f, aprox_inic, max):\n",
        "  dados = [[], [], [], []]\n",
        "  xk = aprox_inic\n",
        "\n",
        "  for K in range(0, max+1):\n",
        "    # -- Adicionando a primeira iteração --\n",
        "    if (K == 0):\n",
        "      fxk = f(xk)\n",
        "      dados[0].append(K)\n",
        "      dados[1].append(xk)\n",
        "      dados[2].append(f(xk))\n",
        "\n",
        "      if (abs(fxk) <= 10e-3 or fxk == 0):\n",
        "        print(\"\\nCondição de parada atingida!\")\n",
        "        dados[3].append(\"True\")\n",
        "        return xk, dados\n",
        "      else:\n",
        "        dados[3].append(\"False\")\n",
        "    \n",
        "    # -- Adicionando as outras iterações --\n",
        "    else:\n",
        "      f_deriv = derivada(f)\n",
        "      xk = xk - (f(xk)/f_deriv(xk))\n",
        "      fxk = f(xk)\n",
        "      dados[0].append(K)\n",
        "      dados[1].append(xk)\n",
        "      dados[2].append(fxk)\n",
        "\n",
        "      # Caso encontre a solução\n",
        "      if (fxk == 0):\n",
        "        print(\"\\nSolução exata encontrada!\")\n",
        "        dados[3].append(\"True\")\n",
        "        return xk, dados\n",
        "\n",
        "      # Caso atinja condição de parada\n",
        "      elif (abs(fxk) <= 10e-3):\n",
        "        print(\"\\nMétodo interrompido pela condição de parada!\")\n",
        "        dados[3].append(\"True\")\n",
        "        return xk, dados\n",
        "\n",
        "      # Nenhum dos outros\n",
        "      else:\n",
        "        dados[3].append(\"False\")\n",
        "  return xk, dados\n",
        "\n",
        "def derivada(f):\n",
        "  f_deriv = lambda x: math.exp(x)-8*x\n",
        "  return f_deriv"
      ],
      "execution_count": 43,
      "outputs": []
    },
    {
      "cell_type": "code",
      "metadata": {
        "id": "xZBVJHt4bXFe",
        "colab_type": "code",
        "colab": {}
      },
      "source": [
        "def plotarTabela(dados, metodo):\n",
        "  if metodo == \"bisseccao\":   #Plotar tabela da Bisseccao\n",
        "    tabela = go.Figure(\n",
        "        data=[go.Table(columnwidth = [100,100,100,100,200,100],\n",
        "                      header = dict(values=['K', 'a', 'b', 'xk', 'f(xk)', 'Parar?']),\n",
        "                      cells = dict(values=dados)) ])\n",
        "    tabela.show()\n",
        "\n",
        "  else:   #Plotar tabela de Newton\n",
        "    tabela = go.Figure(\n",
        "        data=[go.Table(columnwidth = [100,100,200,100],\n",
        "                      header = dict(values=['K', 'xk', 'f(xk)', 'Parar?']),\n",
        "                      cells = dict(values=dados)) ])\n",
        "    tabela.show()"
      ],
      "execution_count": 35,
      "outputs": []
    },
    {
      "cell_type": "markdown",
      "metadata": {
        "id": "mCIyyjc6Ii5r",
        "colab_type": "text"
      },
      "source": [
        "-----------------------"
      ]
    },
    {
      "cell_type": "code",
      "metadata": {
        "id": "eyoAm1M1ZIKh",
        "colab_type": "code",
        "colab": {
          "base_uri": "https://localhost:8080/",
          "height": 780
        },
        "outputId": "bd0c1c67-cb7e-4f4c-925d-f1d4125b7ca0"
      },
      "source": [
        "if __name__ == \"__main__\":\n",
        "  main()"
      ],
      "execution_count": 42,
      "outputs": [
        {
          "output_type": "stream",
          "text": [
            "—— Código - Zeros de Funções ——\n",
            "\n",
            "Escolha entre o método da BISSECCAO ou de NEWTON: \n",
            "newton\n",
            "\n",
            " 1) Insira a equação (Use math.exp(x) para e^x; \n",
            "x**y para potência; \n",
            "x*y para multiplicação; \n",
            "x/y para divisão): math.exp(x)-4*x**2\n",
            " 2) Digite o valor da aproximação inicial (x0): 1\n",
            " 3) Por último, insira uma qntd máxima de iterações: 25\n",
            "\n",
            "Método interrompido pela condição de parada!\n",
            "Valor de x resultante:  0.7161639906789637\n"
          ],
          "name": "stdout"
        },
        {
          "output_type": "display_data",
          "data": {
            "text/html": [
              "<html>\n",
              "<head><meta charset=\"utf-8\" /></head>\n",
              "<body>\n",
              "    <div>\n",
              "            <script src=\"https://cdnjs.cloudflare.com/ajax/libs/mathjax/2.7.5/MathJax.js?config=TeX-AMS-MML_SVG\"></script><script type=\"text/javascript\">if (window.MathJax) {MathJax.Hub.Config({SVG: {font: \"STIX-Web\"}});}</script>\n",
              "                <script type=\"text/javascript\">window.PlotlyConfig = {MathJaxConfig: 'local'};</script>\n",
              "        <script src=\"https://cdn.plot.ly/plotly-latest.min.js\"></script>    \n",
              "            <div id=\"e92e29bf-3af9-45bd-bd30-1a104fa4c09c\" class=\"plotly-graph-div\" style=\"height:525px; width:100%;\"></div>\n",
              "            <script type=\"text/javascript\">\n",
              "                \n",
              "                    window.PLOTLYENV=window.PLOTLYENV || {};\n",
              "                    \n",
              "                if (document.getElementById(\"e92e29bf-3af9-45bd-bd30-1a104fa4c09c\")) {\n",
              "                    Plotly.newPlot(\n",
              "                        'e92e29bf-3af9-45bd-bd30-1a104fa4c09c',\n",
              "                        [{\"cells\": {\"values\": [[0, 1, 2], [1, 0.7573293140767845, 0.7161639906789637], [-1.281718171540955, -0.16161758463409415, -0.004995964332649372], [\"False\", \"False\", \"True\"]]}, \"columnwidth\": [100, 100, 200, 100], \"header\": {\"values\": [\"K\", \"xk\", \"f(xk)\", \"Parar?\"]}, \"type\": \"table\"}],\n",
              "                        {\"template\": {\"data\": {\"bar\": [{\"error_x\": {\"color\": \"#2a3f5f\"}, \"error_y\": {\"color\": \"#2a3f5f\"}, \"marker\": {\"line\": {\"color\": \"#E5ECF6\", \"width\": 0.5}}, \"type\": \"bar\"}], \"barpolar\": [{\"marker\": {\"line\": {\"color\": \"#E5ECF6\", \"width\": 0.5}}, \"type\": \"barpolar\"}], \"carpet\": [{\"aaxis\": {\"endlinecolor\": \"#2a3f5f\", \"gridcolor\": \"white\", \"linecolor\": \"white\", \"minorgridcolor\": \"white\", \"startlinecolor\": \"#2a3f5f\"}, \"baxis\": {\"endlinecolor\": \"#2a3f5f\", \"gridcolor\": \"white\", \"linecolor\": \"white\", \"minorgridcolor\": \"white\", \"startlinecolor\": \"#2a3f5f\"}, \"type\": \"carpet\"}], \"choropleth\": [{\"colorbar\": {\"outlinewidth\": 0, \"ticks\": \"\"}, \"type\": \"choropleth\"}], \"contour\": [{\"colorbar\": {\"outlinewidth\": 0, \"ticks\": \"\"}, \"colorscale\": [[0.0, \"#0d0887\"], [0.1111111111111111, \"#46039f\"], [0.2222222222222222, \"#7201a8\"], [0.3333333333333333, \"#9c179e\"], [0.4444444444444444, \"#bd3786\"], [0.5555555555555556, \"#d8576b\"], [0.6666666666666666, \"#ed7953\"], [0.7777777777777778, \"#fb9f3a\"], [0.8888888888888888, \"#fdca26\"], [1.0, \"#f0f921\"]], \"type\": \"contour\"}], \"contourcarpet\": [{\"colorbar\": {\"outlinewidth\": 0, \"ticks\": \"\"}, \"type\": \"contourcarpet\"}], \"heatmap\": [{\"colorbar\": {\"outlinewidth\": 0, \"ticks\": \"\"}, \"colorscale\": [[0.0, \"#0d0887\"], [0.1111111111111111, \"#46039f\"], [0.2222222222222222, \"#7201a8\"], [0.3333333333333333, \"#9c179e\"], [0.4444444444444444, \"#bd3786\"], [0.5555555555555556, \"#d8576b\"], [0.6666666666666666, \"#ed7953\"], [0.7777777777777778, \"#fb9f3a\"], [0.8888888888888888, \"#fdca26\"], [1.0, \"#f0f921\"]], \"type\": \"heatmap\"}], \"heatmapgl\": [{\"colorbar\": {\"outlinewidth\": 0, \"ticks\": \"\"}, \"colorscale\": [[0.0, \"#0d0887\"], [0.1111111111111111, \"#46039f\"], [0.2222222222222222, \"#7201a8\"], [0.3333333333333333, \"#9c179e\"], [0.4444444444444444, \"#bd3786\"], [0.5555555555555556, \"#d8576b\"], [0.6666666666666666, \"#ed7953\"], [0.7777777777777778, \"#fb9f3a\"], [0.8888888888888888, \"#fdca26\"], [1.0, \"#f0f921\"]], \"type\": \"heatmapgl\"}], \"histogram\": [{\"marker\": {\"colorbar\": {\"outlinewidth\": 0, \"ticks\": \"\"}}, \"type\": \"histogram\"}], \"histogram2d\": [{\"colorbar\": {\"outlinewidth\": 0, \"ticks\": \"\"}, \"colorscale\": [[0.0, \"#0d0887\"], [0.1111111111111111, \"#46039f\"], [0.2222222222222222, \"#7201a8\"], [0.3333333333333333, \"#9c179e\"], [0.4444444444444444, \"#bd3786\"], [0.5555555555555556, \"#d8576b\"], [0.6666666666666666, \"#ed7953\"], [0.7777777777777778, \"#fb9f3a\"], [0.8888888888888888, \"#fdca26\"], [1.0, \"#f0f921\"]], \"type\": \"histogram2d\"}], \"histogram2dcontour\": [{\"colorbar\": {\"outlinewidth\": 0, \"ticks\": \"\"}, \"colorscale\": [[0.0, \"#0d0887\"], [0.1111111111111111, \"#46039f\"], [0.2222222222222222, \"#7201a8\"], [0.3333333333333333, \"#9c179e\"], [0.4444444444444444, \"#bd3786\"], [0.5555555555555556, \"#d8576b\"], [0.6666666666666666, \"#ed7953\"], [0.7777777777777778, \"#fb9f3a\"], [0.8888888888888888, \"#fdca26\"], [1.0, \"#f0f921\"]], \"type\": \"histogram2dcontour\"}], \"mesh3d\": [{\"colorbar\": {\"outlinewidth\": 0, \"ticks\": \"\"}, \"type\": \"mesh3d\"}], \"parcoords\": [{\"line\": {\"colorbar\": {\"outlinewidth\": 0, \"ticks\": \"\"}}, \"type\": \"parcoords\"}], \"pie\": [{\"automargin\": true, \"type\": \"pie\"}], \"scatter\": [{\"marker\": {\"colorbar\": {\"outlinewidth\": 0, \"ticks\": \"\"}}, \"type\": \"scatter\"}], \"scatter3d\": [{\"line\": {\"colorbar\": {\"outlinewidth\": 0, \"ticks\": \"\"}}, \"marker\": {\"colorbar\": {\"outlinewidth\": 0, \"ticks\": \"\"}}, \"type\": \"scatter3d\"}], \"scattercarpet\": [{\"marker\": {\"colorbar\": {\"outlinewidth\": 0, \"ticks\": \"\"}}, \"type\": \"scattercarpet\"}], \"scattergeo\": [{\"marker\": {\"colorbar\": {\"outlinewidth\": 0, \"ticks\": \"\"}}, \"type\": \"scattergeo\"}], \"scattergl\": [{\"marker\": {\"colorbar\": {\"outlinewidth\": 0, \"ticks\": \"\"}}, \"type\": \"scattergl\"}], \"scattermapbox\": [{\"marker\": {\"colorbar\": {\"outlinewidth\": 0, \"ticks\": \"\"}}, \"type\": \"scattermapbox\"}], \"scatterpolar\": [{\"marker\": {\"colorbar\": {\"outlinewidth\": 0, \"ticks\": \"\"}}, \"type\": \"scatterpolar\"}], \"scatterpolargl\": [{\"marker\": {\"colorbar\": {\"outlinewidth\": 0, \"ticks\": \"\"}}, \"type\": \"scatterpolargl\"}], \"scatterternary\": [{\"marker\": {\"colorbar\": {\"outlinewidth\": 0, \"ticks\": \"\"}}, \"type\": \"scatterternary\"}], \"surface\": [{\"colorbar\": {\"outlinewidth\": 0, \"ticks\": \"\"}, \"colorscale\": [[0.0, \"#0d0887\"], [0.1111111111111111, \"#46039f\"], [0.2222222222222222, \"#7201a8\"], [0.3333333333333333, \"#9c179e\"], [0.4444444444444444, \"#bd3786\"], [0.5555555555555556, \"#d8576b\"], [0.6666666666666666, \"#ed7953\"], [0.7777777777777778, \"#fb9f3a\"], [0.8888888888888888, \"#fdca26\"], [1.0, \"#f0f921\"]], \"type\": \"surface\"}], \"table\": [{\"cells\": {\"fill\": {\"color\": \"#EBF0F8\"}, \"line\": {\"color\": \"white\"}}, \"header\": {\"fill\": {\"color\": \"#C8D4E3\"}, \"line\": {\"color\": \"white\"}}, \"type\": \"table\"}]}, \"layout\": {\"annotationdefaults\": {\"arrowcolor\": \"#2a3f5f\", \"arrowhead\": 0, \"arrowwidth\": 1}, \"coloraxis\": {\"colorbar\": {\"outlinewidth\": 0, \"ticks\": \"\"}}, \"colorscale\": {\"diverging\": [[0, \"#8e0152\"], [0.1, \"#c51b7d\"], [0.2, \"#de77ae\"], [0.3, \"#f1b6da\"], [0.4, \"#fde0ef\"], [0.5, \"#f7f7f7\"], [0.6, \"#e6f5d0\"], [0.7, \"#b8e186\"], [0.8, \"#7fbc41\"], [0.9, \"#4d9221\"], [1, \"#276419\"]], \"sequential\": [[0.0, \"#0d0887\"], [0.1111111111111111, \"#46039f\"], [0.2222222222222222, \"#7201a8\"], [0.3333333333333333, \"#9c179e\"], [0.4444444444444444, \"#bd3786\"], [0.5555555555555556, \"#d8576b\"], [0.6666666666666666, \"#ed7953\"], [0.7777777777777778, \"#fb9f3a\"], [0.8888888888888888, \"#fdca26\"], [1.0, \"#f0f921\"]], \"sequentialminus\": [[0.0, \"#0d0887\"], [0.1111111111111111, \"#46039f\"], [0.2222222222222222, \"#7201a8\"], [0.3333333333333333, \"#9c179e\"], [0.4444444444444444, \"#bd3786\"], [0.5555555555555556, \"#d8576b\"], [0.6666666666666666, \"#ed7953\"], [0.7777777777777778, \"#fb9f3a\"], [0.8888888888888888, \"#fdca26\"], [1.0, \"#f0f921\"]]}, \"colorway\": [\"#636efa\", \"#EF553B\", \"#00cc96\", \"#ab63fa\", \"#FFA15A\", \"#19d3f3\", \"#FF6692\", \"#B6E880\", \"#FF97FF\", \"#FECB52\"], \"font\": {\"color\": \"#2a3f5f\"}, \"geo\": {\"bgcolor\": \"white\", \"lakecolor\": \"white\", \"landcolor\": \"#E5ECF6\", \"showlakes\": true, \"showland\": true, \"subunitcolor\": \"white\"}, \"hoverlabel\": {\"align\": \"left\"}, \"hovermode\": \"closest\", \"mapbox\": {\"style\": \"light\"}, \"paper_bgcolor\": \"white\", \"plot_bgcolor\": \"#E5ECF6\", \"polar\": {\"angularaxis\": {\"gridcolor\": \"white\", \"linecolor\": \"white\", \"ticks\": \"\"}, \"bgcolor\": \"#E5ECF6\", \"radialaxis\": {\"gridcolor\": \"white\", \"linecolor\": \"white\", \"ticks\": \"\"}}, \"scene\": {\"xaxis\": {\"backgroundcolor\": \"#E5ECF6\", \"gridcolor\": \"white\", \"gridwidth\": 2, \"linecolor\": \"white\", \"showbackground\": true, \"ticks\": \"\", \"zerolinecolor\": \"white\"}, \"yaxis\": {\"backgroundcolor\": \"#E5ECF6\", \"gridcolor\": \"white\", \"gridwidth\": 2, \"linecolor\": \"white\", \"showbackground\": true, \"ticks\": \"\", \"zerolinecolor\": \"white\"}, \"zaxis\": {\"backgroundcolor\": \"#E5ECF6\", \"gridcolor\": \"white\", \"gridwidth\": 2, \"linecolor\": \"white\", \"showbackground\": true, \"ticks\": \"\", \"zerolinecolor\": \"white\"}}, \"shapedefaults\": {\"line\": {\"color\": \"#2a3f5f\"}}, \"ternary\": {\"aaxis\": {\"gridcolor\": \"white\", \"linecolor\": \"white\", \"ticks\": \"\"}, \"baxis\": {\"gridcolor\": \"white\", \"linecolor\": \"white\", \"ticks\": \"\"}, \"bgcolor\": \"#E5ECF6\", \"caxis\": {\"gridcolor\": \"white\", \"linecolor\": \"white\", \"ticks\": \"\"}}, \"title\": {\"x\": 0.05}, \"xaxis\": {\"automargin\": true, \"gridcolor\": \"white\", \"linecolor\": \"white\", \"ticks\": \"\", \"title\": {\"standoff\": 15}, \"zerolinecolor\": \"white\", \"zerolinewidth\": 2}, \"yaxis\": {\"automargin\": true, \"gridcolor\": \"white\", \"linecolor\": \"white\", \"ticks\": \"\", \"title\": {\"standoff\": 15}, \"zerolinecolor\": \"white\", \"zerolinewidth\": 2}}}},\n",
              "                        {\"responsive\": true}\n",
              "                    ).then(function(){\n",
              "                            \n",
              "var gd = document.getElementById('e92e29bf-3af9-45bd-bd30-1a104fa4c09c');\n",
              "var x = new MutationObserver(function (mutations, observer) {{\n",
              "        var display = window.getComputedStyle(gd).display;\n",
              "        if (!display || display === 'none') {{\n",
              "            console.log([gd, 'removed!']);\n",
              "            Plotly.purge(gd);\n",
              "            observer.disconnect();\n",
              "        }}\n",
              "}});\n",
              "\n",
              "// Listen for the removal of the full notebook cells\n",
              "var notebookContainer = gd.closest('#notebook-container');\n",
              "if (notebookContainer) {{\n",
              "    x.observe(notebookContainer, {childList: true});\n",
              "}}\n",
              "\n",
              "// Listen for the clearing of the current output cell\n",
              "var outputEl = gd.closest('.output');\n",
              "if (outputEl) {{\n",
              "    x.observe(outputEl, {childList: true});\n",
              "}}\n",
              "\n",
              "                        })\n",
              "                };\n",
              "                \n",
              "            </script>\n",
              "        </div>\n",
              "</body>\n",
              "</html>"
            ]
          },
          "metadata": {
            "tags": []
          }
        }
      ]
    }
  ]
}